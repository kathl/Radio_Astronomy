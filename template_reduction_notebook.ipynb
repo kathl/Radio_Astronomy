{
 "cells": [
  {
   "cell_type": "markdown",
   "metadata": {},
   "source": [
    "# SHREG reduction notebook\n",
    "This is a template for the SHREG data reduction notbook, which in the end should exist for every ATCA observing project in the SHREG project. For this notebook to work, one has to first find out and set:\n",
    " - the name of the ATCA observing project (C*)\n",
    " - the dates of observations\n",
    " - the name of the science sources\n",
    " - the names of the bandpass and phase calibrator\n",
    "\n",
    "It also has to be indicated whether data:\n",
    " - is organised in a folder structur like [project]/[science_source_name]/[obs_date] (useful if only one science source was observed per observation, e.g. C217) or [project]/[obs_date] (useful if multiple science sources were observed per observation, e.g. C942). \n",
    " - should be averaged and how to do so.\n",
    " - whether data was taken with CABB or the pre-2008 correlator. \n",
    "\n",
    "## Import relevant packages"
   ]
  },
  {
   "cell_type": "code",
   "execution_count": null,
   "metadata": {},
   "outputs": [],
   "source": [
    "import data_reduction_modules as drm\n",
    "from mirpy import miriad\n",
    "import os\n",
    "import glob\n",
    "import shutil\n",
    "import subprocess32\n",
    "import sys\n",
    "import numpy as np\n",
    "import logging\n",
    "from datetime import datetime"
   ]
  },
  {
   "cell_type": "code",
   "execution_count": null,
   "metadata": {},
   "outputs": [],
   "source": [
    "project = 'C819'"
   ]
  },
  {
   "cell_type": "code",
   "execution_count": null,
   "metadata": {},
   "outputs": [],
   "source": [
    "log_logging = datetime.now().strftime(\n",
    "    \"LogFiles/{}_%Y-%m-%d_logging.log\".format{project})\n",
    "log_notes = open(datetime.now().strftime(\n",
    "    \"LogFiles/{}_%Y-%m-%d_notes.log\".format{project}), 'a+')\n",
    "logging.basicConfig(format='%(asctime)s %(levelname)s:%(message)s', \n",
    "                    level=logging.WARNING, datefmt='%I:%M:%S', \n",
    "                    filename = log_logging)\n",
    "logging.captureWarnings(True)"
   ]
  },
  {
   "cell_type": "markdown",
   "metadata": {},
   "source": [
    "## Set names and other input"
   ]
  },
  {
   "cell_type": "code",
   "execution_count": null,
   "metadata": {},
   "outputs": [],
   "source": [
    "# What to do? Only those tasks with a True flag are executed. \n",
    "do_read_in = True\n",
    "do_averaging = False\n",
    "do_flagging = False\n",
    "do_calibration = False\n",
    "do_show_calibresult = False\n",
    "do_apply_calib = False\n",
    "do_cont_sub = False\n",
    "do_imaging = False"
   ]
  },
  {
   "cell_type": "code",
   "execution_count": null,
   "metadata": {},
   "outputs": [],
   "source": [
    "base_folder = '/data/HI_Interferometry/'\n",
    "# Which correlator was used?\n",
    "cabb_flag = False\n",
    "pre08_flag = True\n",
    "# Should the data be averaged?\n",
    "uvaver_flag = False\n",
    "# The following flag indicates whether we have already run the calibration\n",
    "# once (False) or whether we need to run the calibration steps again \n",
    "# because we were not satisfied with the previous solutions (True). If the\n",
    "# latter is the case, we run blflag before running the calibration step. \n",
    "redo_calib_flag = False\n",
    "# How many channels do the data have? You can select from 512, 1024, \n",
    "# 2048 (CABB, no zooms) or 17000 (CABB concatanated zooms), this is impor-\n",
    "# tant to use the right channel range to subtract the continuum emission \n",
    "# from the spectral line observations. \n",
    "num_chans = 512\n",
    "# Initially only put the dates, which are the keys of the obs_dates dictionary\n",
    "# then let atlod and uvsplit run, clean up each date folder and then set \n",
    "# the names of the phase and bandpass calibrators as well as the science \n",
    "# sources. Note that there can be multiple science sources. If there are \n",
    "# also multiple phase and/or bandpass calibrators, then the list of cali-\n",
    "# brators needs to be organised such that the calibrators can be used to \n",
    "# calibrate the science sources at the same positions in their respective\n",
    "# lists, i.e. calibrator 0 is used for science source 0, even if that means\n",
    "# that one calibrator is mentioned multiple times. If only one calibator is\n",
    "# given it is used to calibrate the data of all science sources. \n",
    "obs_dates ={'': {'phase': '', \n",
    "                           'bandpass': '', \n",
    "                           'sci_sou':  ['', '', \n",
    "                                       '', '']},\n",
    "            '': {'phase': '', \n",
    "                             'bandpass': '', \n",
    "                             'sci_sou':  ['', '', \n",
    "                                         '', '']},\n",
    "            '': {'phase': '', \n",
    "                             'bandpass': '', \n",
    "                             'sci_sou':  ['', '', \n",
    "                                         '', '']},\n",
    "            '': {'phase': '', \n",
    "                             'bandpass': '', \n",
    "                             'sci_sou':  ['', '', \n",
    "                                         '', '']}\n",
    "           }\n",
    "            \n",
    "obs_dates_order = ['', '', '', \n",
    "                   '']\n",
    "# This is just a list of dates for which, we run the calibration\n",
    "dates_do_calib = []\n",
    "# This is just a list of objects, for which the data reduction is\n",
    "# completed\n",
    "objects_finished = []"
   ]
  },
  {
   "cell_type": "markdown",
   "metadata": {},
   "source": [
    "## Read in the data and split into single source observations"
   ]
  },
  {
   "cell_type": "code",
   "execution_count": null,
   "metadata": {},
   "outputs": [],
   "source": [
    "# Once the data has been read in, split and then cleaned by hand, this step\n",
    "# will not work anymore because some especially observations where \n",
    "# galaxies at different frequencies have been observed alternatly these\n",
    "# observations will have been moved into different folders. \n",
    "if do_read_in == True:\n",
    "    for date in obs_dates.keys():\n",
    "        print(date)\n",
    "        directory = '{}{}/{}'.format(base_folder, project, date)\n",
    "        log_notes = drm.read_in_data(directory, project, log_notes, \n",
    "                                     ifsel=1, ifsel_flag=True)\n",
    "        log_notes = drm.split_data(directory, log_notes)"
   ]
  },
  {
   "cell_type": "markdown",
   "metadata": {},
   "source": [
    "## Average the data"
   ]
  },
  {
   "cell_type": "code",
   "execution_count": null,
   "metadata": {},
   "outputs": [],
   "source": [
    "if do_averaging == True:\n",
    "    if uvaver_flag == True:\n",
    "        print('I should be averaging data, but I am doing nothing.')"
   ]
  },
  {
   "cell_type": "markdown",
   "metadata": {},
   "source": [
    "## Flag data\n",
    "In this section we first flag the amplitude and phase of the bandpass and phase calibrator manually on a baseline by baseline bases using `blflag`. Then we let `uvflag` and `pgflag` do the rest automatically. "
   ]
  },
  {
   "cell_type": "code",
   "execution_count": null,
   "metadata": {},
   "outputs": [],
   "source": [
    "if do_flagging == True:\n",
    "    for date in obs_dates_order:\n",
    "        print(date)\n",
    "        directory = '{}{}/{}'.format(base_folder, project, date)\n",
    "        log_notes = drm.blflag_data(directory, obs_dates[date]['bandpass'], \n",
    "                                    obs_dates[date]['phase'], log_notes)\n",
    "    for date in obs_dates_order:\n",
    "        print(date)\n",
    "        directory = '{}{}/{}'.format(base_folder, project, date)\n",
    "        source_list = []\n",
    "        source_list = source_list + obs_dates[date]['sci_sou']\n",
    "        source_list = source_list + [obs_dates[date]['phase']]\n",
    "        source_list = source_list + [obs_dates[date]['bandpass']]\n",
    "        log_notes = drm.uvflag_data(directory, source_list, log_notes)\n",
    "        log_notes = drm.pgflag_data(directory, source_list, log_notes)"
   ]
  },
  {
   "cell_type": "code",
   "execution_count": null,
   "metadata": {},
   "outputs": [],
   "source": [
    "if do_flagging == True:\n",
    "    for date in obs_dates_order:\n",
    "        for source in obs_dates[date]['sci_sou']:\n",
    "            print('pgflag vis={}/{} device=/xs mode=amplitude'.format(date, source))"
   ]
  },
  {
   "cell_type": "markdown",
   "metadata": {},
   "source": [
    "## Calibration\n",
    "Calibration is always performed for all dates listed in `dates_do_calib`. The general approach would be to put all dates into this list, i.e. perform the calibration for all dates. Then set the `redo_calib_flag` to True and remove all those dates from the `dates_do_calib` for which we are happy with the calibration result and run the calibration again. Since the `redo_calib_flag` is now set to True, an interactive flagging routine is run before the calibration is tried again. "
   ]
  },
  {
   "cell_type": "code",
   "execution_count": null,
   "metadata": {},
   "outputs": [],
   "source": [
    "if do_calibration == True:\n",
    "    print('Let\\'s do the calibration!')\n",
    "    if pre08_flag == True:\n",
    "        for date in dates_do_calib:\n",
    "            print(date)\n",
    "            directory = '{}{}/{}'.format(base_folder, project, date)\n",
    "            if (redo_calib_flag == True):\n",
    "                log_notes = drm.remove_calib_tables(directory, \n",
    "                                                    obs_dates[date]['bandpass'], \n",
    "                                                    log_notes) \n",
    "                log_notes = drm.remove_calib_tables(directory, \n",
    "                                                    obs_dates[date]['phase'], \n",
    "                                                    log_notes)\n",
    "                log_notes = drm.reflag_after_calib(directory, \n",
    "                                                   obs_dates[date]['bandpass'], \n",
    "                                                   log_notes,\n",
    "                                                   nobase_flag=False)\n",
    "                log_notes = drm.reflag_after_calib(directory, \n",
    "                                                   obs_dates[date]['phase'], \n",
    "                                                   log_notes,\n",
    "                                                   nobase_flag=False)\n",
    "            log_notes = drm.bandpass_calib_pre08(directory, \n",
    "                                                 obs_dates[date]['bandpass'], \n",
    "                                                 log_notes)\n",
    "            log_notes = drm.apply_bandpass_calib(directory, \n",
    "                                                 obs_dates[date]['bandpass'], \n",
    "                                                 obs_dates[date]['phase'], \n",
    "                                                 log_notes)\n",
    "            log_notes = drm.phase_calib_pre08(directory, \n",
    "                                              obs_dates[date]['bandpass'], \n",
    "                                              obs_dates[date]['phase'], \n",
    "                                              log_notes)\n",
    "            drm.plot_calibration_result(directory, obs_dates[date]['bandpass'], \n",
    "                                        obs_dates[date]['phase'])\n",
    "    elif cabb_flag == True:\n",
    "        for date in dates_do_calib:\n",
    "            print(date)\n",
    "            directory = '{}{}/{}'.format(base_folder, project, date)\n",
    "            if (redo_calib_flag == True):\n",
    "                log_notes = drm.remove_calib_tables(directory, \n",
    "                                                    obs_dates[date]['bandpass'], \n",
    "                                                    log_notes) \n",
    "                log_notes = drm.remove_calib_tables(directory, \n",
    "                                                    obs_dates[date]['phase'], \n",
    "                                                    log_notes)\n",
    "                log_notes = drm.reflag_after_calib(directory, \n",
    "                                                   obs_dates[date]['bandpass'], \n",
    "                                                   log_notes)\n",
    "                log_notes = drm.reflag_after_calib(directory, \n",
    "                                                   obs_dates[date]['phase'], \n",
    "                                                   log_notes)\n",
    "            log_notes = drm.bandpass_calib_cabb(directory, \n",
    "                                                obs_dates[date]['bandpass'], \n",
    "                                                log_notes)\n",
    "            log_notes =  drm.apply_bandpass_calib(directory, \n",
    "                                                  obs_dates[date]['bandpass'], \n",
    "                                                  obs_dates[date]['phase'], \n",
    "                                                  log_notes)\n",
    "            log_notes = drm.phase_calib_cabb(directory, \n",
    "                                             obs_dates[date]['bandpass'], \n",
    "                                             obs_dates[date]['phase'], \n",
    "                                             log_notes)\n",
    "            drm.plot_calibration_result(directory, obs_dates[date]['bandpass'], \n",
    "                                        obs_dates[date]['phase'], \n",
    "                                        cabb_flag=cabb_flag)"
   ]
  },
  {
   "cell_type": "markdown",
   "metadata": {},
   "source": [
    "The following cell opens the quality assesment plots created by the calibration functions with evince from the commandline. "
   ]
  },
  {
   "cell_type": "code",
   "execution_count": null,
   "metadata": {},
   "outputs": [],
   "source": [
    "if do_show_calibresult == True:\n",
    "    for date in dates_do_calib:\n",
    "        print(date)\n",
    "        directory = '{}{}/{}'.format(base_folder, project, date)\n",
    "        for f in glob.glob('{}/*.eps'.format(directory)):\n",
    "            subprocess32.call(['evince', f])"
   ]
  },
  {
   "cell_type": "markdown",
   "metadata": {},
   "source": [
    "## Apply calibration to science source and subtract continuum"
   ]
  },
  {
   "cell_type": "code",
   "execution_count": null,
   "metadata": {},
   "outputs": [],
   "source": [
    "if do_apply_calib == True:\n",
    "    for date in obs_dates_order:\n",
    "        print(date)\n",
    "        directory = '{}{}/{}'.format(base_folder, project, date)\n",
    "        for galaxy in obs_dates[date]['sci_sou']:\n",
    "            log_notes = drm.apply_phase_calib(directory, obs_dates[date]['phase'], \n",
    "                                              galaxy, log_notes)"
   ]
  },
  {
   "cell_type": "code",
   "execution_count": null,
   "metadata": {},
   "outputs": [],
   "source": [
    "if do_cont_sub == True:\n",
    "    for date in obs_dates_order:\n",
    "        print(date)\n",
    "        directory = '{}{}/{}'.format(base_folder, project, date)\n",
    "        for galaxy in obs_dates[date]['sci_sou']:\n",
    "            log_notes = drm.subtract_continuum(directory, galaxy, num_chans, \n",
    "                                               log_notes)"
   ]
  },
  {
   "cell_type": "markdown",
   "metadata": {},
   "source": [
    "## Get cubes and moment maps"
   ]
  },
  {
   "cell_type": "code",
   "execution_count": null,
   "metadata": {},
   "outputs": [],
   "source": [
    "if do_imaging == True:\n",
    "    obs_collections = drm.sort_data(obs_dates)\n",
    "    done_obj = []\n",
    "    project_directory = '{}{}'.format(base_folder, project)\n",
    "    print(len(obs_collections.keys()), len(done_obj))\n",
    "    for gal in obs_collections.keys():\n",
    "        if gal in objects_finished: continue\n",
    "        print(gal)\n",
    "        name_root, rms, ra, dec, log_notes = drm.invert_data(project_directory, gal, \n",
    "                                                              obs_collections[gal],\n",
    "                                                              log_notes,\n",
    "                                                              weight='rob2', \n",
    "                                                              mosaic_flag=False)\n",
    "        if rms == -99.9:\n",
    "            print('Invert failed, I will move on to the next galaxy.')\n",
    "            continue\n",
    "        log_notes = drm.clean_data(name_root, rms, log_notes, mosaic_flag=False)\n",
    "        log_notes, success = drm.restor_data(name_root, log_notes, mosaic_flag=False)\n",
    "        if success == True:\n",
    "            log_notes = drm.make_moment_maps(name_root, rms, ra, dec, log_notes)\n",
    "        else:\n",
    "            print('I will stop here and move on to the next galaxy.')"
   ]
  },
  {
   "cell_type": "code",
   "execution_count": null,
   "metadata": {},
   "outputs": [],
   "source": []
  }
 ],
 "metadata": {
  "kernelspec": {
   "display_name": "Python 2",
   "language": "python",
   "name": "python2"
  },
  "language_info": {
   "codemirror_mode": {
    "name": "ipython",
    "version": 2
   },
   "file_extension": ".py",
   "mimetype": "text/x-python",
   "name": "python",
   "nbconvert_exporter": "python",
   "pygments_lexer": "ipython2",
   "version": "2.7.15rc1"
  }
 },
 "nbformat": 4,
 "nbformat_minor": 2
}
